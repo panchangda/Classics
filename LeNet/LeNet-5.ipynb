{
 "cells": [
  {
   "cell_type": "code",
   "execution_count": 120,
   "metadata": {},
   "outputs": [
    {
     "name": "stdout",
     "output_type": "stream",
     "text": [
      "Pytorch version: 1.11.0\n",
      "cuda version: 11.3\n",
      "Python version: 3.8.13\n",
      "using: cuda\n"
     ]
    }
   ],
   "source": [
    "import numpy as np\n",
    "import torch\n",
    "import platform\n",
    "\n",
    "print(f'Pytorch version: {torch.__version__}')\n",
    "print(f'cuda version: {torch.version.cuda}')\n",
    "print(f'Python version: {platform.python_version()}')\n",
    "\n",
    "device = 'cuda' if torch.cuda.is_available() else 'cpu'\n",
    "print('using:',device)"
   ]
  },
  {
   "cell_type": "markdown",
   "metadata": {},
   "source": [
    "![The LeNet-5](LeNet-5.jpg)\n",
    "The LeNet-5 network"
   ]
  },
  {
   "cell_type": "code",
   "execution_count": 121,
   "metadata": {},
   "outputs": [],
   "source": [
    "from torch import nn\n",
    "LeNet_5 = nn.Sequential(\n",
    "    nn.Conv2d(1, 6, kernel_size=5, padding=2), nn.Sigmoid(),\n",
    "    nn.AvgPool2d(kernel_size=2, stride=2),\n",
    "    nn.Conv2d(6, 16, kernel_size=5), nn.Sigmoid(),\n",
    "    nn.AvgPool2d(kernel_size=2, stride=2),\n",
    "    nn.Flatten(),\n",
    "    nn.Linear(16 * 5 * 5, 120), nn.Sigmoid(),\n",
    "    nn.Linear(120, 84), nn.Sigmoid(),\n",
    "    nn.Linear(84, 10))"
   ]
  },
  {
   "cell_type": "code",
   "execution_count": 122,
   "metadata": {},
   "outputs": [
    {
     "name": "stdout",
     "output_type": "stream",
     "text": [
      "Conv2d output shape: \t torch.Size([1, 6, 28, 28])\n",
      "Sigmoid output shape: \t torch.Size([1, 6, 28, 28])\n",
      "AvgPool2d output shape: \t torch.Size([1, 6, 14, 14])\n",
      "Conv2d output shape: \t torch.Size([1, 16, 10, 10])\n",
      "Sigmoid output shape: \t torch.Size([1, 16, 10, 10])\n",
      "AvgPool2d output shape: \t torch.Size([1, 16, 5, 5])\n",
      "Flatten output shape: \t torch.Size([1, 400])\n",
      "Linear output shape: \t torch.Size([1, 120])\n",
      "Sigmoid output shape: \t torch.Size([1, 120])\n",
      "Linear output shape: \t torch.Size([1, 84])\n",
      "Sigmoid output shape: \t torch.Size([1, 84])\n",
      "Linear output shape: \t torch.Size([1, 10])\n"
     ]
    }
   ],
   "source": [
    "#shape test\n",
    "X = torch.rand(size=(1, 1, 28, 28), dtype=torch.float32)\n",
    "for layer in LeNet_5:\n",
    "    X = layer(X)\n",
    "    print(layer.__class__.__name__,'output shape: \\t',X.shape)"
   ]
  },
  {
   "cell_type": "code",
   "execution_count": 123,
   "metadata": {},
   "outputs": [],
   "source": [
    "import torchvision\n",
    "from torchvision.transforms import ToTensor\n",
    "mnist_train = torchvision.datasets.MNIST(root='./data', train=True, download=True, transform=ToTensor())\n",
    "mnist_test = torchvision.datasets.MNIST(root='./data', train=False, download=True, transform=ToTensor())\n",
    "\n",
    "batch_size = 256\n",
    "train_loader = torch.utils.data.DataLoader(mnist_train, batch_size=batch_size)\n",
    "test_loader = torch.utils.data.DataLoader(mnist_test, batch_size=batch_size)"
   ]
  },
  {
   "cell_type": "code",
   "execution_count": 124,
   "metadata": {},
   "outputs": [],
   "source": [
    "def train(model, train_loader, criterion, optimizer, device):\n",
    "    model.train()\n",
    "    running_loss = 0\n",
    "    for i, (X, y) in enumerate(train_loader):\n",
    "        optimizer.zero_grad()\n",
    "        X = X.to(device)\n",
    "        y = y.to(device)\n",
    "        y_hat = model(X)\n",
    "        loss = criterion(y_hat, y)\n",
    "        loss.backward()\n",
    "        optimizer.step()\n",
    "        running_loss += loss.item() * X.size(0)\n",
    "    epoch_loss = running_loss / len(train_loader.dataset)\n",
    "    return model, optimizer, epoch_loss\n",
    "\n",
    "def eval(model, test_loader, device):\n",
    "    model.eval()\n",
    "    correct_num = 0\n",
    "    with torch.no_grad():\n",
    "        for X, y in test_loader:\n",
    "            X = X.to(device)\n",
    "            y = y.to(device)\n",
    "            y_hat = model(X)\n",
    "            y_predicted = y_hat.argmax(axis=1)\n",
    "            cmp = y_predicted == y\n",
    "            correct_num += float(cmp.sum())\n",
    "    epoch_acc = correct_num / len(test_loader.dataset)\n",
    "    return epoch_acc"
   ]
  },
  {
   "cell_type": "code",
   "execution_count": 125,
   "metadata": {},
   "outputs": [],
   "source": [
    "import matplotlib.pyplot as plt\n",
    "'''\n",
    "kernel died reason: expect parameters to be list not tensor!!!\n",
    "'''\n",
    "def visualize_training(num_epochs, train_losses, train_accs, test_accs):\n",
    "    epochs = range(num_epochs)\n",
    "    plt.plot(epochs, train_losses, 'b-', label='train loss')\n",
    "    plt.plot(epochs, train_accs, 'r--', label='train acc')\n",
    "    plt.plot(epochs, test_accs, 'g-.', label='test acc')\n",
    "    plt.xlabel('Epochs')\n",
    "    plt.ylabel('Loss')\n",
    "    plt.legend()\n",
    "    plt.show()"
   ]
  },
  {
   "cell_type": "code",
   "execution_count": 126,
   "metadata": {},
   "outputs": [],
   "source": [
    "def training_loop(model, train_loader, test_loader, num_epochs, lr, device):\n",
    "    def init_weights(m):\n",
    "        if type(m) == nn.Linear or type(m) == nn.Conv2d:\n",
    "            nn.init.xavier_uniform_(m.weight)\n",
    "    model.apply(init_weights)\n",
    "    model.to(device)\n",
    "    criterion = nn.CrossEntropyLoss()\n",
    "    optimizer = torch.optim.SGD(model.parameters(), lr=lr)\n",
    "    train_losses = []\n",
    "    train_accs = []\n",
    "    test_accs = []\n",
    "\n",
    "    for epoch in range(num_epochs):\n",
    "        # train\n",
    "        model, optimizer, train_loss = train(model, train_loader, criterion, optimizer, device)\n",
    "        train_losses.append(train_loss)\n",
    "        # eval\n",
    "        train_acc = eval(model, train_loader, device)\n",
    "        train_accs.append(train_acc)\n",
    "        test_acc = eval(model, test_loader, device)\n",
    "        test_accs.append(test_acc)\n",
    "        print(\"Epoch [{}/{}] Train Loss:{} Train Accuracy:{} Test Accuracy:{}\".format(epoch+1, num_epochs, train_loss, train_acc, test_acc))\n",
    "        # print(num_epochs, train_losses, train_accs, test_accs)\n",
    "    visualize_training(num_epochs, train_losses, train_accs, test_accs)"
   ]
  },
  {
   "cell_type": "code",
   "execution_count": 127,
   "metadata": {},
   "outputs": [
    {
     "name": "stdout",
     "output_type": "stream",
     "text": [
      "Epoch [1/20] Train Loss:2.309666748682658 Train Accuracy:0.09751666666666667 Test Accuracy:0.0974\n",
      "Epoch [2/20] Train Loss:2.3073364676157633 Train Accuracy:0.09751666666666667 Test Accuracy:0.0974\n",
      "Epoch [3/20] Train Loss:2.305519260152181 Train Accuracy:0.09751666666666667 Test Accuracy:0.0974\n",
      "Epoch [4/20] Train Loss:2.302498369471232 Train Accuracy:0.09903333333333333 Test Accuracy:0.0979\n",
      "Epoch [5/20] Train Loss:2.283988603591919 Train Accuracy:0.4664 Test Accuracy:0.4643\n",
      "Epoch [6/20] Train Loss:1.657689245033264 Train Accuracy:0.7108333333333333 Test Accuracy:0.7178\n",
      "Epoch [7/20] Train Loss:0.7384447990735372 Train Accuracy:0.7646666666666667 Test Accuracy:0.7717\n",
      "Epoch [8/20] Train Loss:0.5132547600746155 Train Accuracy:0.8146333333333333 Test Accuracy:0.8217\n",
      "Epoch [9/20] Train Loss:0.40571594130198163 Train Accuracy:0.8507666666666667 Test Accuracy:0.8573\n",
      "Epoch [10/20] Train Loss:0.3441659370581309 Train Accuracy:0.8744833333333333 Test Accuracy:0.8805\n",
      "Epoch [11/20] Train Loss:0.30151282436052956 Train Accuracy:0.8909833333333333 Test Accuracy:0.8966\n",
      "Epoch [12/20] Train Loss:0.26782432282765706 Train Accuracy:0.9041333333333333 Test Accuracy:0.9072\n",
      "Epoch [13/20] Train Loss:0.23982019000053406 Train Accuracy:0.9158166666666666 Test Accuracy:0.9178\n",
      "Epoch [14/20] Train Loss:0.21615694080988565 Train Accuracy:0.9247 Test Accuracy:0.9253\n",
      "Epoch [15/20] Train Loss:0.19605183029174805 Train Accuracy:0.9323333333333333 Test Accuracy:0.9326\n",
      "Epoch [16/20] Train Loss:0.17893851815859477 Train Accuracy:0.9387333333333333 Test Accuracy:0.9391\n",
      "Epoch [17/20] Train Loss:0.16434497887293498 Train Accuracy:0.9440833333333334 Test Accuracy:0.9447\n",
      "Epoch [18/20] Train Loss:0.1518910672903061 Train Accuracy:0.94815 Test Accuracy:0.949\n",
      "Epoch [19/20] Train Loss:0.14125212062994638 Train Accuracy:0.9518 Test Accuracy:0.9536\n",
      "Epoch [20/20] Train Loss:0.1321293089389801 Train Accuracy:0.9547166666666667 Test Accuracy:0.957\n"
     ]
    },
    {
     "data": {
      "image/png": "[encoded data removed]",
      "text/plain": [
       "<Figure size 432x288 with 1 Axes>"
      ]
     },
     "metadata": {
      "needs_background": "light"
     },
     "output_type": "display_data"
    }
   ],
   "source": [
    "lr = 0.9\n",
    "num_epochs = 20\n",
    "training_loop(LeNet_5, train_loader, test_loader, num_epochs, lr, device)"
   ]
  },
  {
   "cell_type": "code",
   "execution_count": 128,
   "metadata": {},
   "outputs": [
    {
     "name": "stdout",
     "output_type": "stream",
     "text": [
      "Epoch [1/20] Train Loss:2.3091514428456623 Train Accuracy:0.09751666666666667 Test Accuracy:0.0974\n",
      "Epoch [2/20] Train Loss:2.304913013839722 Train Accuracy:0.09751666666666667 Test Accuracy:0.0974\n",
      "Epoch [3/20] Train Loss:2.2943076602935792 Train Accuracy:0.22743333333333332 Test Accuracy:0.2305\n",
      "Epoch [4/20] Train Loss:1.9952257873535155 Train Accuracy:0.52895 Test Accuracy:0.5311\n",
      "Epoch [5/20] Train Loss:1.0810896277427673 Train Accuracy:0.7288333333333333 Test Accuracy:0.7308\n",
      "Epoch [6/20] Train Loss:0.6644079535484314 Train Accuracy:0.7881833333333333 Test Accuracy:0.7943\n",
      "Epoch [7/20] Train Loss:0.48609284699757893 Train Accuracy:0.8256833333333333 Test Accuracy:0.8353\n",
      "Epoch [8/20] Train Loss:0.39768664797147113 Train Accuracy:0.8454833333333334 Test Accuracy:0.8556\n",
      "Epoch [9/20] Train Loss:0.35023857836723327 Train Accuracy:0.8583166666666666 Test Accuracy:0.8687\n",
      "Epoch [10/20] Train Loss:0.31805093156496683 Train Accuracy:0.86825 Test Accuracy:0.8769\n",
      "Epoch [11/20] Train Loss:0.2922973186333974 Train Accuracy:0.8781333333333333 Test Accuracy:0.8843\n",
      "Epoch [12/20] Train Loss:0.27033895592689516 Train Accuracy:0.8867833333333334 Test Accuracy:0.8912\n",
      "Epoch [13/20] Train Loss:0.25121480170885724 Train Accuracy:0.8943 Test Accuracy:0.899\n",
      "Epoch [14/20] Train Loss:0.23441605134010315 Train Accuracy:0.90145 Test Accuracy:0.9042\n",
      "Epoch [15/20] Train Loss:0.21958971586227416 Train Accuracy:0.9075333333333333 Test Accuracy:0.9114\n",
      "Epoch [16/20] Train Loss:0.20646219773292543 Train Accuracy:0.9132333333333333 Test Accuracy:0.918\n",
      "Epoch [17/20] Train Loss:0.19476953711509704 Train Accuracy:0.9184666666666667 Test Accuracy:0.923\n",
      "Epoch [18/20] Train Loss:0.18431914683977763 Train Accuracy:0.9233166666666667 Test Accuracy:0.9272\n",
      "Epoch [19/20] Train Loss:0.17493072990576425 Train Accuracy:0.9283333333333333 Test Accuracy:0.9324\n",
      "Epoch [20/20] Train Loss:0.1664579291899999 Train Accuracy:0.9323166666666667 Test Accuracy:0.9369\n"
     ]
    },
    {
     "data": {
      "image/png": "[encoded data removed]",
      "text/plain": [
       "<Figure size 432x288 with 1 Axes>"
      ]
     },
     "metadata": {
      "needs_background": "light"
     },
     "output_type": "display_data"
    }
   ],
   "source": [
    "LeNet_5_half_conv_core = nn.Sequential(\n",
    "    nn.Conv2d(1, 3, kernel_size=5, padding=2), nn.Sigmoid(),\n",
    "    nn.AvgPool2d(kernel_size=2, stride=2),\n",
    "    nn.Conv2d(3, 8, kernel_size=5), nn.Sigmoid(),\n",
    "    nn.AvgPool2d(kernel_size=2, stride=2),\n",
    "    nn.Flatten(),\n",
    "    nn.Linear(8 * 5 * 5, 120), nn.Sigmoid(),\n",
    "    nn.Linear(120, 84), nn.Sigmoid(),\n",
    "    nn.Linear(84, 10))\n",
    "    \n",
    "training_loop(LeNet_5_half_conv_core, train_loader, test_loader, num_epochs, lr, device)"
   ]
  },
  {
   "cell_type": "code",
   "execution_count": 129,
   "metadata": {},
   "outputs": [
    {
     "name": "stdout",
     "output_type": "stream",
     "text": [
      "Epoch [1/20] Train Loss:2.3223594100952147 Train Accuracy:0.09863333333333334 Test Accuracy:0.0958\n",
      "Epoch [2/20] Train Loss:2.3091662314097086 Train Accuracy:0.10218333333333333 Test Accuracy:0.101\n",
      "Epoch [3/20] Train Loss:2.305155911127726 Train Accuracy:0.10441666666666667 Test Accuracy:0.1028\n",
      "Epoch [4/20] Train Loss:2.3037478618621825 Train Accuracy:0.10441666666666667 Test Accuracy:0.1028\n",
      "Epoch [5/20] Train Loss:2.302753146489461 Train Accuracy:0.10441666666666667 Test Accuracy:0.1028\n",
      "Epoch [6/20] Train Loss:2.3021207734425864 Train Accuracy:0.10441666666666667 Test Accuracy:0.1028\n",
      "Epoch [7/20] Train Loss:2.3008605078379314 Train Accuracy:0.10441666666666667 Test Accuracy:0.1028\n",
      "Epoch [8/20] Train Loss:2.2995741424560547 Train Accuracy:0.10441666666666667 Test Accuracy:0.1028\n",
      "Epoch [9/20] Train Loss:2.29542753868103 Train Accuracy:0.14023333333333332 Test Accuracy:0.1372\n",
      "Epoch [10/20] Train Loss:2.245859344991048 Train Accuracy:0.50445 Test Accuracy:0.506\n",
      "Epoch [11/20] Train Loss:1.3233628964424133 Train Accuracy:0.728 Test Accuracy:0.7379\n",
      "Epoch [12/20] Train Loss:0.7390240406990052 Train Accuracy:0.8151333333333334 Test Accuracy:0.818\n",
      "Epoch [13/20] Train Loss:0.5477116355895996 Train Accuracy:0.8594 Test Accuracy:0.8636\n",
      "Epoch [14/20] Train Loss:0.4433254178206126 Train Accuracy:0.8861166666666667 Test Accuracy:0.8913\n",
      "Epoch [15/20] Train Loss:0.3789550879796346 Train Accuracy:0.8979666666666667 Test Accuracy:0.9012\n",
      "Epoch [16/20] Train Loss:0.33962072281837463 Train Accuracy:0.9046333333333333 Test Accuracy:0.9101\n",
      "Epoch [17/20] Train Loss:0.3064784068743388 Train Accuracy:0.91105 Test Accuracy:0.9163\n",
      "Epoch [18/20] Train Loss:0.27995246357917786 Train Accuracy:0.9215 Test Accuracy:0.9253\n",
      "Epoch [19/20] Train Loss:0.25944751965204876 Train Accuracy:0.9235666666666666 Test Accuracy:0.9286\n",
      "Epoch [20/20] Train Loss:0.23939069854418438 Train Accuracy:0.9308333333333333 Test Accuracy:0.9358\n"
     ]
    },
    {
     "data": {
      "image/png": "[encoded data removed]",
      "text/plain": [
       "<Figure size 432x288 with 1 Axes>"
      ]
     },
     "metadata": {
      "needs_background": "light"
     },
     "output_type": "display_data"
    }
   ],
   "source": [
    "dropout1,dropout2 = 0.05, 0.1\n",
    "LeNet_5_dropout = nn.Sequential(\n",
    "    nn.Conv2d(1, 6, kernel_size=5, padding=2), nn.Sigmoid(),\n",
    "    nn.AvgPool2d(kernel_size=2, stride=2),\n",
    "    nn.Conv2d(6, 16, kernel_size=5), nn.Sigmoid(),\n",
    "    nn.AvgPool2d(kernel_size=2, stride=2),\n",
    "    nn.Flatten(),\n",
    "    nn.Linear(16 * 5 * 5, 120), nn.Sigmoid(),\n",
    "    nn.Dropout(dropout1),\n",
    "    nn.Linear(120, 84), nn.Sigmoid(),\n",
    "    nn.Dropout(dropout2),\n",
    "    nn.Linear(84, 10))\n",
    "\n",
    "training_loop(LeNet_5_dropout, train_loader, test_loader, num_epochs, lr, device)"
   ]
  }
 ],
 "metadata": {
  "kernelspec": {
   "display_name": "Python 3.8.13 ('d2l')",
   "language": "python",
   "name": "python3"
  },
  "language_info": {
   "codemirror_mode": {
    "name": "ipython",
    "version": 3
   },
   "file_extension": ".py",
   "mimetype": "text/x-python",
   "name": "python",
   "nbconvert_exporter": "python",
   "pygments_lexer": "ipython3",
   "version": "3.8.13"
  },
  "orig_nbformat": 4,
  "vscode": {
   "interpreter": {
    "hash": "44c84ae2b42636b0b3731830ab89dfcb16ba531fc7141532ee49c9de17aa56e9"
   }
  }
 },
 "nbformat": 4,
 "nbformat_minor": 2
}
